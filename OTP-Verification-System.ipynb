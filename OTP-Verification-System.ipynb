{
 "cells": [
  {
   "cell_type": "code",
   "execution_count": 12,
   "metadata": {},
   "outputs": [],
   "source": [
    "import math\n",
    "import random\n",
    "import smtplib\n",
    "from tkinter import *\n",
    "from tkinter import messagebox "
   ]
  },
  {
   "cell_type": "code",
   "execution_count": 13,
   "metadata": {},
   "outputs": [],
   "source": [
    "# Generation of 6 digit otp and and assign to OTPSent variable\n",
    "OTPSent = \"\"\n",
    "def generateOTP():\n",
    "    global OTPSent\n",
    "    for i in range(0,6):\n",
    "        OTPSent += str(random.randint(0,9))"
   ]
  },
  {
   "cell_type": "code",
   "execution_count": 14,
   "metadata": {},
   "outputs": [
    {
     "data": {
      "text/plain": [
       "(235, b'2.7.0 Accepted')"
      ]
     },
     "execution_count": 14,
     "metadata": {},
     "output_type": "execute_result"
    }
   ],
   "source": [
    "# Email server setup for sending email\n",
    "server = smtplib.SMTP(\"smtp.gmail.com\",587)\n",
    "server.starttls()\n",
    "server.login(\"atulpathronia@gmail.com\",'tisr frtq qhip mscy')"
   ]
  },
  {
   "cell_type": "code",
   "execution_count": 15,
   "metadata": {},
   "outputs": [],
   "source": [
    "# Sending otp on the email provided\n",
    "def sendOTPtoEmail():\n",
    "    global is_on\n",
    "    try:\n",
    "        generateOTP()\n",
    "        emailId = emailEntry.get()\n",
    "        bodyMessage = f'Hey there.\\n\\nHere is your OTP {OTPSent}\\n\\nPlease note it is valid for 10 minutes'\n",
    "        server.sendmail('&&&&&&&&&&&&', emailId,bodyMessage)\n",
    "        messagebox.showinfo(\"Show info\",\"OTP Sent successfully\")\n",
    "        is_on = False\n",
    "        switch()\n",
    "    except ValueError as ve:\n",
    "        print(ve)\n",
    "        messagebox.showwarning(\"showwarning\",\"Register a valid email id\")"
   ]
  },
  {
   "cell_type": "code",
   "execution_count": 16,
   "metadata": {},
   "outputs": [],
   "source": [
    "# Verify input otp with otpsent variable\n",
    "enteredOTP = \"\"\n",
    "def verifyOTP():\n",
    "    global enteredOTP\n",
    "    enteredOTP = OTPEntry.get()\n",
    "    if OTPSent == enteredOTP:\n",
    "            messagebox.showinfo(\"Show info\",\"OTP Verified\")\n",
    "            OTPLabel.destroy() \n",
    "            OTPEntry.destroy()\n",
    "            verifyOTPBtn.destroy()\n",
    "\n",
    "    else:\n",
    "        messagebox.showwarning(\"showwarning\",\"Invalid OTP\")\n",
    "        OTPLabel.destroy() \n",
    "        OTPEntry.destroy()\n",
    "        verifyOTPBtn.destroy()\n",
    "        "
   ]
  },
  {
   "cell_type": "code",
   "execution_count": 17,
   "metadata": {},
   "outputs": [],
   "source": [
    "# Function to swithc between email label and otp label once otp is sent on email\n",
    "def switch():\n",
    "    global is_on\n",
    "    if is_on:\n",
    "        print(\"True\",\"from switch\")\n",
    "    else:\n",
    "        EmailLabel.destroy() \n",
    "        emailEntry.destroy()\n",
    "        sendOTP.destroy()\n",
    "        OTPLabel.place(x=360,y=150)\n",
    "        OTPEntry.place(x=340,y=200)\n",
    "        verifyOTPBtn.place(x=360,y=300)"
   ]
  },
  {
   "cell_type": "code",
   "execution_count": 18,
   "metadata": {},
   "outputs": [
    {
     "data": {
      "text/plain": [
       "(1, 1)"
      ]
     },
     "execution_count": 18,
     "metadata": {},
     "output_type": "execute_result"
    }
   ],
   "source": [
    "# Create root\n",
    "global root\n",
    "root = Tk()\n",
    "# Root window title and dimension\n",
    "root.title(\"OTP Verification System\")\n",
    "is_on = True\n",
    "root.geometry('1000x580')\n",
    "root.config(bg=\"#f7f7f7\")\n",
    "root.resizable(height = None, width = None)"
   ]
  },
  {
   "cell_type": "code",
   "execution_count": 19,
   "metadata": {},
   "outputs": [],
   "source": [
    "# Creating canvas and frame\n",
    "middleCanvas = Canvas(bg=\"#808080\",width=400,height=280).place(x=300,y=120)\n",
    "upperFrame = Frame(bg=\"#4682B4\",width=1500,height=100).place(x=0,y=0)\n",
    "frameLabel = Label(upperFrame,text=\"OTP Verification System\",font=\"TimesNewRoman 38 bold\",bg=\"#4682B4\",fg=\"white\").place(x=200,y=10)"
   ]
  },
  {
   "cell_type": "code",
   "execution_count": 20,
   "metadata": {},
   "outputs": [],
   "source": [
    "# Email label and email input with send otp buton\n",
    "EmailLabel = Label(frameLabel,text=\"Entry Valid Email Address\",font=\"TimesNewRoman 18 bold\",bg=\"#4682B4\",fg=\"white\")\n",
    "EmailLabel.place(x=360,y=150)\n",
    "emailEntry = Entry(frameLabel,font=\"calibri 20\",borderwidth=2,width=23)\n",
    "emailEntry.place(x=340,y=200)\n",
    "sendOTP = Button(text=\"Send OTP\",command=sendOTPtoEmail,width=40,height=1)\n",
    "sendOTP.place(x=360,y=300)\n"
   ]
  },
  {
   "cell_type": "code",
   "execution_count": 21,
   "metadata": {},
   "outputs": [],
   "source": [
    "# OTP label and otp input with verify otp button\n",
    "OTPLabel = Label(frameLabel,text=\"Enter Your OTP\",font=\"TimesNewRoman 18 bold\",bg=\"#4682B4\",fg=\"white\")\n",
    "OTPLabel.place_forget()\n",
    "OTPEntry = Entry(frameLabel,font=\"calibri 20\",borderwidth=2,width=23)\n",
    "OTPEntry.place_forget()\n",
    "verifyOTPBtn = Button(text=\"Verify OTP\",command=verifyOTP,width=40,height=1)\n",
    "verifyOTPBtn.place_forget()"
   ]
  },
  {
   "cell_type": "code",
   "execution_count": 22,
   "metadata": {},
   "outputs": [],
   "source": [
    "root.mainloop()"
   ]
  }
 ],
 "metadata": {
  "kernelspec": {
   "display_name": "Python 3",
   "language": "python",
   "name": "python3"
  },
  "language_info": {
   "codemirror_mode": {
    "name": "ipython",
    "version": 3
   },
   "file_extension": ".py",
   "mimetype": "text/x-python",
   "name": "python",
   "nbconvert_exporter": "python",
   "pygments_lexer": "ipython3",
   "version": "3.12.3"
  }
 },
 "nbformat": 4,
 "nbformat_minor": 2
}
